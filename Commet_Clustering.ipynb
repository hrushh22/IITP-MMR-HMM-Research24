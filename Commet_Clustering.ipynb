{
  "nbformat": 4,
  "nbformat_minor": 0,
  "metadata": {
    "colab": {
      "provenance": []
    },
    "kernelspec": {
      "name": "python3",
      "display_name": "Python 3"
    },
    "language_info": {
      "name": "python"
    }
  },
  "cells": [
    {
      "cell_type": "code",
      "execution_count": 16,
      "metadata": {
        "colab": {
          "base_uri": "https://localhost:8080/"
        },
        "id": "bJeYBb9L2iLR",
        "outputId": "f7b92358-0755-48d3-b444-d29d13968abc"
      },
      "outputs": [
        {
          "output_type": "stream",
          "name": "stdout",
          "text": [
            "Requirement already satisfied: gensim in /usr/local/lib/python3.10/dist-packages (4.3.2)\n",
            "Requirement already satisfied: numpy>=1.18.5 in /usr/local/lib/python3.10/dist-packages (from gensim) (1.25.2)\n",
            "Requirement already satisfied: scipy>=1.7.0 in /usr/local/lib/python3.10/dist-packages (from gensim) (1.11.4)\n",
            "Requirement already satisfied: smart-open>=1.8.1 in /usr/local/lib/python3.10/dist-packages (from gensim) (6.4.0)\n"
          ]
        }
      ],
      "source": [
        "!pip install gensim"
      ]
    },
    {
      "cell_type": "code",
      "source": [
        "import gensim\n",
        "import re\n",
        "import nltk\n",
        "nltk.download('punkt')\n",
        "from gensim.models import Word2Vec\n",
        "from nltk.tokenize import word_tokenize"
      ],
      "metadata": {
        "colab": {
          "base_uri": "https://localhost:8080/"
        },
        "id": "Ya8mQmuP66I4",
        "outputId": "5c8000c0-d619-4311-d551-8b50649115df"
      },
      "execution_count": 18,
      "outputs": [
        {
          "output_type": "stream",
          "name": "stderr",
          "text": [
            "[nltk_data] Downloading package punkt to /root/nltk_data...\n",
            "[nltk_data]   Unzipping tokenizers/punkt.zip.\n"
          ]
        }
      ]
    },
    {
      "cell_type": "code",
      "source": [
        "# Train Word2Vec model on your comments\n",
        "\n",
        "comments = [\n",
        "    \"I’d get a solid colored pink and maybe green or yellow pillows with it but that’s just me!\",\n",
        "    \"Totally! solid and a few colors seems like the safest and best bet. buy two or three sets of sheets and mix/match\",\n",
        "    \"100% this. Solid sheets, solid comforter\",\n",
        "    \"I would try for cream coloured sheets and comforter (basic, no pattern) with some pink and lime/yellow accent pillows. ETA - love the mural by the way!\",\n",
        "    \"I’m a big proponent of all white sheets (bed sheet, duvet cover, pillow cases), so you can bleach them while washing, and accent throw pillows and blanket(s) on top. I’d go with soft blue pink and yellow tones for those.\",\n",
        "    \"Seconding this, you can also get white sheets and comforter with just a thin blue piping around, it’ll really tie the room together\",\n",
        "    \"So far I’m liking the blue. Teal would be good too, chambray or mixed blues. Add an accent pillow if you like but keep most of the bedding a background color so focus remains on the mural.\",\n",
        "    \"I was really hoping that was wallpaper because I LOVE it.\",\n",
        "    \"Cream/terra cotta pink. I’d definitely not involve another pattern, the beautiful mural does so much work making the place special.\",\n",
        "    \"I'd go with white/cream for sheets/duvet and accent with pillow colors + throw blanket color from the mural. I think going with a dark color for your bedspread would be very overwhelming.\",\n",
        "    \"I personally would go with a darker blue to match one the blue colors of the mural or match a lighter blue from the mural. I think if you go with another color like yellow or white your eyes go to the bed first whereas I would want the mural to be my feature. I'd definitely add on colorful throw pillows though like the peachy orange, pink, yellow, etc so the bed still pops.\",\n",
        "    \"I think a light blue solid linen duvet with a little fabric texture to match the walls without overpowering it. And then, maybe similar colored sheets and/or light pink or citron to switch it up ¯\\_(ツ)_/¯ BEAUTIFUL mural though, you painted it yourself?!\",\n",
        "    \"Yellow with darker pillows\",\n",
        "    \"Cream or light pink\",\n",
        "    \"I’d go with a plain pale yellow\",\n",
        "    \"Move all the furniture out of the room so you can stare at the masterpiece all day Seriously though I dream of owning a home one day so I can paint fun murals on the walls.\",\n",
        "    \"Omg that mural! 🥰🥰🥰🥰🥰\",\n",
        "    \"Baby blue baby\",\n",
        "    \"Clearly you love color, so embrace it! I’d pick one of the mural accent colors (pink, yellow, green, etc.) for a comforter, another for your sheets and a combo of all (with accents of blue) on throw pillows. You can have so much fun with this, and should! edit: comma\",\n",
        "    \"You could really lean-in to the maximalism here. A vibrant large floral print would look amazing.\",\n",
        "    \"The mural is quite marine so maybe like a raw linen green or earthy colour style to make the bed feel like your own island in the water. Or light blue to make it your 'safe bubble'. Pink would work quite nicely too, a nice dry sandy warm pink colour.\",\n",
        "    \"I know this sounds weird but I'd try a Coffee berry color. Match the vibrancy in the color. Use a solid. Try not to match a color in the wallpaper.\"\n",
        "]\n",
        "\n",
        "# Preprocess comments\n",
        "preprocessed_comments = [re.sub(r'[^\\w\\s]', '', comment.lower()) for comment in comments]\n",
        "\n",
        "# Tokenize comments into words\n",
        "comments_tokenized = [word_tokenize(comment) for comment in preprocessed_comments]"
      ],
      "metadata": {
        "id": "hKMO-may2rdD"
      },
      "execution_count": 19,
      "outputs": []
    },
    {
      "cell_type": "code",
      "source": [
        "# Train Word2Vec model on your tokenized comments\n",
        "model = gensim.models.Word2Vec(sentences=comments_tokenized, vector_size=100, window=5, min_count=1, workers=4)\n",
        "\n",
        "# Get vectors for all tokenized comments\n",
        "comment_vectors = [model.wv[comment] for comment in comments_tokenized]\n",
        "\n",
        "# Save the Word2Vec model\n",
        "model.save(\"word2vec_model\")"
      ],
      "metadata": {
        "id": "fYVpHpZv4rxM"
      },
      "execution_count": 20,
      "outputs": []
    },
    {
      "cell_type": "code",
      "source": [
        "# Load the model when needed\n",
        "model = gensim.models.Word2Vec.load(\"word2vec_model\")"
      ],
      "metadata": {
        "id": "GDRaokGe72cP"
      },
      "execution_count": 21,
      "outputs": []
    },
    {
      "cell_type": "code",
      "source": [
        "import numpy as np\n",
        "\n",
        "# Find the maximum length of comment vectors\n",
        "max_length = max(len(comment_vector) for comment_vector in comment_vectors)\n",
        "\n",
        "# Pad or truncate comment vectors to ensure they all have the same length\n",
        "padded_comment_vectors = []\n",
        "for comment_vector in comment_vectors:\n",
        "    if len(comment_vector) < max_length:\n",
        "        num_zeros = max_length - len(comment_vector)\n",
        "        zero_array = np.zeros((num_zeros, comment_vector.shape[1]))\n",
        "        padded_vector = np.concatenate((comment_vector, zero_array), axis=0)\n",
        "    else:\n",
        "        padded_vector = comment_vector[:max_length]\n",
        "    padded_comment_vectors.append(padded_vector)\n",
        "\n",
        "# Convert the list of padded comment vectors to a numpy array\n",
        "X = np.array(padded_comment_vectors)\n",
        "\n",
        "# Reshape comment vectors to flatten them\n",
        "X_flat = X.reshape(X.shape[0], -1)\n",
        "\n",
        "# Use K-means clustering\n",
        "kmeans = KMeans(n_clusters=2)\n",
        "kmeans.fit(X_flat)\n",
        "\n",
        "# Assign each comment to a cluster\n",
        "cluster_assignments = kmeans.labels_"
      ],
      "metadata": {
        "colab": {
          "base_uri": "https://localhost:8080/"
        },
        "id": "BsCqdeaR5lPp",
        "outputId": "90eb00ea-225b-433f-c3c0-467548ed2b2a"
      },
      "execution_count": 35,
      "outputs": [
        {
          "output_type": "stream",
          "name": "stderr",
          "text": [
            "/usr/local/lib/python3.10/dist-packages/sklearn/cluster/_kmeans.py:870: FutureWarning: The default value of `n_init` will change from 10 to 'auto' in 1.4. Set the value of `n_init` explicitly to suppress the warning\n",
            "  warnings.warn(\n"
          ]
        }
      ]
    },
    {
      "cell_type": "code",
      "source": [
        "relevant_comments = [comments[i] for i, label in enumerate(cluster_assignments) if label == 0]\n",
        "irrelevant_comments = [comments[i] for i, label in enumerate(cluster_assignments) if label == 1]"
      ],
      "metadata": {
        "id": "dm_tG-RD5oZx"
      },
      "execution_count": 36,
      "outputs": []
    },
    {
      "cell_type": "code",
      "source": [
        "print(\"Relevant comment are:\" ,relevant_comments)\n",
        "print(\"Irrelevant comment are:\", irrelevant_comments)"
      ],
      "metadata": {
        "colab": {
          "base_uri": "https://localhost:8080/"
        },
        "id": "IP9e9mBV_hYg",
        "outputId": "4078b024-2845-463d-8096-f3a619620d09"
      },
      "execution_count": 38,
      "outputs": [
        {
          "output_type": "stream",
          "name": "stdout",
          "text": [
            "Relevant comment are: ['I’d get a solid colored pink and maybe green or yellow pillows with it but that’s just me!', 'Totally! solid and a few colors seems like the safest and best bet. buy two or three sets of sheets and mix/match', '100% this. Solid sheets, solid comforter', 'I would try for cream coloured sheets and comforter (basic, no pattern) with some pink and lime/yellow accent pillows. ETA - love the mural by the way!', 'I’m a big proponent of all white sheets (bed sheet, duvet cover, pillow cases), so you can bleach them while washing, and accent throw pillows and blanket(s) on top. I’d go with soft blue pink and yellow tones for those.', 'Seconding this, you can also get white sheets and comforter with just a thin blue piping around, it’ll really tie the room together', 'So far I’m liking the blue. Teal would be good too, chambray or mixed blues. Add an accent pillow if you like but keep most of the bedding a background color so focus remains on the mural.', 'I was really hoping that was wallpaper because I LOVE it.', 'Cream/terra cotta pink. I’d definitely not involve another pattern, the beautiful mural does so much work making the place special.', \"I'd go with white/cream for sheets/duvet and accent with pillow colors + throw blanket color from the mural. I think going with a dark color for your bedspread would be very overwhelming.\", 'I think a light blue solid linen duvet with a little fabric texture to match the walls without overpowering it. And then, maybe similar colored sheets and/or light pink or citron to switch it up ¯\\\\_(ツ)_/¯ BEAUTIFUL mural though, you painted it yourself?!', 'Yellow with darker pillows', 'Cream or light pink', 'I’d go with a plain pale yellow', 'Move all the furniture out of the room so you can stare at the masterpiece all day Seriously though I dream of owning a home one day so I can paint fun murals on the walls.', 'Omg that mural! 🥰🥰🥰🥰🥰', 'Baby blue baby', 'Clearly you love color, so embrace it! I’d pick one of the mural accent colors (pink, yellow, green, etc.) for a comforter, another for your sheets and a combo of all (with accents of blue) on throw pillows. You can have so much fun with this, and should! edit: comma', 'You could really lean-in to the maximalism here. A vibrant large floral print would look amazing.', \"The mural is quite marine so maybe like a raw linen green or earthy colour style to make the bed feel like your own island in the water. Or light blue to make it your 'safe bubble'. Pink would work quite nicely too, a nice dry sandy warm pink colour.\", \"I know this sounds weird but I'd try a Coffee berry color. Match the vibrancy in the color. Use a solid. Try not to match a color in the wallpaper.\"]\n",
            "Irrelevant comment are: [\"I personally would go with a darker blue to match one the blue colors of the mural or match a lighter blue from the mural. I think if you go with another color like yellow or white your eyes go to the bed first whereas I would want the mural to be my feature. I'd definitely add on colorful throw pillows though like the peachy orange, pink, yellow, etc so the bed still pops.\"]\n"
          ]
        }
      ]
    },
    {
      "cell_type": "code",
      "source": [
        "from nltk.tokenize import sent_tokenize\n",
        "from sklearn.feature_extraction.text import TfidfVectorizer\n",
        "import numpy as np\n",
        "\n",
        "# Combine relevant comments into a single text\n",
        "relevant_text = ' '.join(relevant_comments)\n",
        "\n",
        "# Tokenize the text into sentences\n",
        "sentences = sent_tokenize(relevant_text)\n",
        "\n",
        "# Use TF-IDF to compute sentence importance scores\n",
        "vectorizer = TfidfVectorizer()\n",
        "tfidf_matrix = vectorizer.fit_transform(sentences)\n",
        "sentence_scores = np.sum(tfidf_matrix, axis=1)\n",
        "\n",
        "# Flatten the array to make it 1-dimensional\n",
        "sentence_scores = np.ravel(sentence_scores)\n",
        "\n",
        "# Sort sentences by importance scores\n",
        "sorted_indices = np.argsort(sentence_scores)[::-1]\n",
        "\n",
        "# Select top sentences for the summary\n",
        "num_sentences_in_summary = min(5, len(sorted_indices))\n",
        "summary_indices = sorted_indices[:num_sentences_in_summary]\n",
        "summary = [sentences[i] for i in summary_indices]\n",
        "\n",
        "# Print the summary\n",
        "print(\"Summary of Relevant Comments:\")\n",
        "print('\\n'.join(summary))"
      ],
      "metadata": {
        "colab": {
          "base_uri": "https://localhost:8080/"
        },
        "id": "-EQjbAmPDHjk",
        "outputId": "fab67239-ff3c-4dc8-af30-400778d0d998"
      },
      "execution_count": 40,
      "outputs": [
        {
          "output_type": "stream",
          "name": "stdout",
          "text": [
            "Summary of Relevant Comments:\n",
            "Yellow with darker pillows Cream or light pink I’d go with a plain pale yellow Move all the furniture out of the room so you can stare at the masterpiece all day Seriously though I dream of owning a home one day so I can paint fun murals on the walls.\n",
            "I’m a big proponent of all white sheets (bed sheet, duvet cover, pillow cases), so you can bleach them while washing, and accent throw pillows and blanket(s) on top.\n",
            "Seconding this, you can also get white sheets and comforter with just a thin blue piping around, it’ll really tie the room together So far I’m liking the blue.\n",
            "The mural is quite marine so maybe like a raw linen green or earthy colour style to make the bed feel like your own island in the water.\n",
            "Add an accent pillow if you like but keep most of the bedding a background color so focus remains on the mural.\n"
          ]
        }
      ]
    },
    {
      "cell_type": "code",
      "source": [
        "!pip install bert-extractive-summarizer"
      ],
      "metadata": {
        "colab": {
          "base_uri": "https://localhost:8080/"
        },
        "id": "MRqSaPLRIcqm",
        "outputId": "4703bd8b-b8ba-4bfc-e1c1-12d3d7dc7d88"
      },
      "execution_count": 45,
      "outputs": [
        {
          "output_type": "stream",
          "name": "stdout",
          "text": [
            "Collecting bert-extractive-summarizer\n",
            "  Downloading bert_extractive_summarizer-0.10.1-py3-none-any.whl (25 kB)\n",
            "Requirement already satisfied: transformers in /usr/local/lib/python3.10/dist-packages (from bert-extractive-summarizer) (4.35.2)\n",
            "Requirement already satisfied: scikit-learn in /usr/local/lib/python3.10/dist-packages (from bert-extractive-summarizer) (1.2.2)\n",
            "Requirement already satisfied: spacy in /usr/local/lib/python3.10/dist-packages (from bert-extractive-summarizer) (3.7.2)\n",
            "Requirement already satisfied: numpy>=1.17.3 in /usr/local/lib/python3.10/dist-packages (from scikit-learn->bert-extractive-summarizer) (1.25.2)\n",
            "Requirement already satisfied: scipy>=1.3.2 in /usr/local/lib/python3.10/dist-packages (from scikit-learn->bert-extractive-summarizer) (1.11.4)\n",
            "Requirement already satisfied: joblib>=1.1.1 in /usr/local/lib/python3.10/dist-packages (from scikit-learn->bert-extractive-summarizer) (1.3.2)\n",
            "Requirement already satisfied: threadpoolctl>=2.0.0 in /usr/local/lib/python3.10/dist-packages (from scikit-learn->bert-extractive-summarizer) (3.2.0)\n",
            "Requirement already satisfied: spacy-legacy<3.1.0,>=3.0.11 in /usr/local/lib/python3.10/dist-packages (from spacy->bert-extractive-summarizer) (3.0.12)\n",
            "Requirement already satisfied: spacy-loggers<2.0.0,>=1.0.0 in /usr/local/lib/python3.10/dist-packages (from spacy->bert-extractive-summarizer) (1.0.5)\n",
            "Requirement already satisfied: murmurhash<1.1.0,>=0.28.0 in /usr/local/lib/python3.10/dist-packages (from spacy->bert-extractive-summarizer) (1.0.10)\n",
            "Requirement already satisfied: cymem<2.1.0,>=2.0.2 in /usr/local/lib/python3.10/dist-packages (from spacy->bert-extractive-summarizer) (2.0.8)\n",
            "Requirement already satisfied: preshed<3.1.0,>=3.0.2 in /usr/local/lib/python3.10/dist-packages (from spacy->bert-extractive-summarizer) (3.0.9)\n",
            "Requirement already satisfied: thinc<8.3.0,>=8.1.8 in /usr/local/lib/python3.10/dist-packages (from spacy->bert-extractive-summarizer) (8.2.3)\n",
            "Requirement already satisfied: wasabi<1.2.0,>=0.9.1 in /usr/local/lib/python3.10/dist-packages (from spacy->bert-extractive-summarizer) (1.1.2)\n",
            "Requirement already satisfied: srsly<3.0.0,>=2.4.3 in /usr/local/lib/python3.10/dist-packages (from spacy->bert-extractive-summarizer) (2.4.8)\n",
            "Requirement already satisfied: catalogue<2.1.0,>=2.0.6 in /usr/local/lib/python3.10/dist-packages (from spacy->bert-extractive-summarizer) (2.0.10)\n",
            "Requirement already satisfied: weasel<0.4.0,>=0.1.0 in /usr/local/lib/python3.10/dist-packages (from spacy->bert-extractive-summarizer) (0.3.4)\n",
            "Requirement already satisfied: typer<0.10.0,>=0.3.0 in /usr/local/lib/python3.10/dist-packages (from spacy->bert-extractive-summarizer) (0.9.0)\n",
            "Requirement already satisfied: smart-open<7.0.0,>=5.2.1 in /usr/local/lib/python3.10/dist-packages (from spacy->bert-extractive-summarizer) (6.4.0)\n",
            "Requirement already satisfied: tqdm<5.0.0,>=4.38.0 in /usr/local/lib/python3.10/dist-packages (from spacy->bert-extractive-summarizer) (4.66.2)\n",
            "Requirement already satisfied: requests<3.0.0,>=2.13.0 in /usr/local/lib/python3.10/dist-packages (from spacy->bert-extractive-summarizer) (2.31.0)\n",
            "Requirement already satisfied: pydantic!=1.8,!=1.8.1,<3.0.0,>=1.7.4 in /usr/local/lib/python3.10/dist-packages (from spacy->bert-extractive-summarizer) (2.6.1)\n",
            "Requirement already satisfied: jinja2 in /usr/local/lib/python3.10/dist-packages (from spacy->bert-extractive-summarizer) (3.1.3)\n",
            "Requirement already satisfied: setuptools in /usr/local/lib/python3.10/dist-packages (from spacy->bert-extractive-summarizer) (67.7.2)\n",
            "Requirement already satisfied: packaging>=20.0 in /usr/local/lib/python3.10/dist-packages (from spacy->bert-extractive-summarizer) (23.2)\n",
            "Requirement already satisfied: langcodes<4.0.0,>=3.2.0 in /usr/local/lib/python3.10/dist-packages (from spacy->bert-extractive-summarizer) (3.3.0)\n",
            "Requirement already satisfied: filelock in /usr/local/lib/python3.10/dist-packages (from transformers->bert-extractive-summarizer) (3.13.1)\n",
            "Requirement already satisfied: huggingface-hub<1.0,>=0.16.4 in /usr/local/lib/python3.10/dist-packages (from transformers->bert-extractive-summarizer) (0.20.3)\n",
            "Requirement already satisfied: pyyaml>=5.1 in /usr/local/lib/python3.10/dist-packages (from transformers->bert-extractive-summarizer) (6.0.1)\n",
            "Requirement already satisfied: regex!=2019.12.17 in /usr/local/lib/python3.10/dist-packages (from transformers->bert-extractive-summarizer) (2023.12.25)\n",
            "Requirement already satisfied: tokenizers<0.19,>=0.14 in /usr/local/lib/python3.10/dist-packages (from transformers->bert-extractive-summarizer) (0.15.2)\n",
            "Requirement already satisfied: safetensors>=0.3.1 in /usr/local/lib/python3.10/dist-packages (from transformers->bert-extractive-summarizer) (0.4.2)\n",
            "Requirement already satisfied: fsspec>=2023.5.0 in /usr/local/lib/python3.10/dist-packages (from huggingface-hub<1.0,>=0.16.4->transformers->bert-extractive-summarizer) (2023.6.0)\n",
            "Requirement already satisfied: typing-extensions>=3.7.4.3 in /usr/local/lib/python3.10/dist-packages (from huggingface-hub<1.0,>=0.16.4->transformers->bert-extractive-summarizer) (4.9.0)\n",
            "Requirement already satisfied: annotated-types>=0.4.0 in /usr/local/lib/python3.10/dist-packages (from pydantic!=1.8,!=1.8.1,<3.0.0,>=1.7.4->spacy->bert-extractive-summarizer) (0.6.0)\n",
            "Requirement already satisfied: pydantic-core==2.16.2 in /usr/local/lib/python3.10/dist-packages (from pydantic!=1.8,!=1.8.1,<3.0.0,>=1.7.4->spacy->bert-extractive-summarizer) (2.16.2)\n",
            "Requirement already satisfied: charset-normalizer<4,>=2 in /usr/local/lib/python3.10/dist-packages (from requests<3.0.0,>=2.13.0->spacy->bert-extractive-summarizer) (3.3.2)\n",
            "Requirement already satisfied: idna<4,>=2.5 in /usr/local/lib/python3.10/dist-packages (from requests<3.0.0,>=2.13.0->spacy->bert-extractive-summarizer) (3.6)\n",
            "Requirement already satisfied: urllib3<3,>=1.21.1 in /usr/local/lib/python3.10/dist-packages (from requests<3.0.0,>=2.13.0->spacy->bert-extractive-summarizer) (2.0.7)\n",
            "Requirement already satisfied: certifi>=2017.4.17 in /usr/local/lib/python3.10/dist-packages (from requests<3.0.0,>=2.13.0->spacy->bert-extractive-summarizer) (2024.2.2)\n",
            "Requirement already satisfied: blis<0.8.0,>=0.7.8 in /usr/local/lib/python3.10/dist-packages (from thinc<8.3.0,>=8.1.8->spacy->bert-extractive-summarizer) (0.7.11)\n",
            "Requirement already satisfied: confection<1.0.0,>=0.0.1 in /usr/local/lib/python3.10/dist-packages (from thinc<8.3.0,>=8.1.8->spacy->bert-extractive-summarizer) (0.1.4)\n",
            "Requirement already satisfied: click<9.0.0,>=7.1.1 in /usr/local/lib/python3.10/dist-packages (from typer<0.10.0,>=0.3.0->spacy->bert-extractive-summarizer) (8.1.7)\n",
            "Requirement already satisfied: cloudpathlib<0.17.0,>=0.7.0 in /usr/local/lib/python3.10/dist-packages (from weasel<0.4.0,>=0.1.0->spacy->bert-extractive-summarizer) (0.16.0)\n",
            "Requirement already satisfied: MarkupSafe>=2.0 in /usr/local/lib/python3.10/dist-packages (from jinja2->spacy->bert-extractive-summarizer) (2.1.5)\n",
            "Installing collected packages: bert-extractive-summarizer\n",
            "Successfully installed bert-extractive-summarizer-0.10.1\n"
          ]
        }
      ]
    },
    {
      "cell_type": "code",
      "source": [
        "from nltk.tokenize import sent_tokenize\n",
        "from sklearn.feature_extraction.text import TfidfVectorizer\n",
        "import numpy as np\n",
        "from summarizer import Summarizer\n",
        "\n",
        "# Relevant comments\n",
        "relevant_comments = [\n",
        "    \"Yellow with darker pillows Cream or light pink I’d go with a plain pale yellow Move all the furniture out of the room so you can stare at the masterpiece all day Seriously though I dream of owning a home one day so I can paint fun murals on the walls.\",\n",
        "    \"I’m a big proponent of all white sheets (bed sheet, duvet cover, pillow cases), so you can bleach them while washing, and accent throw pillows and blanket(s) on top.\",\n",
        "    \"Seconding this, you can also get white sheets and comforter with just a thin blue piping around, it’ll really tie the room together So far I’m liking the blue.\",\n",
        "    \"The mural is quite marine so maybe like a raw linen green or earthy colour style to make the bed feel like your own island in the water.\",\n",
        "    \"Add an accent pillow if you like but keep most of the bedding a background color so focus remains on the mural.\"\n",
        "]\n",
        "\n",
        "# Combine relevant comments into a single text\n",
        "relevant_text = ' '.join(relevant_comments)\n",
        "\n",
        "# Tokenize the text into sentences\n",
        "sentences = sent_tokenize(relevant_text)\n",
        "\n",
        "# Use BERT extractive summarizer to generate an extractive summary\n",
        "summarizer = Summarizer()\n",
        "extractive_summary = summarizer(relevant_text, ratio=0.2)  # You can adjust the ratio as needed\n",
        "\n",
        "# Print the extractive summary\n",
        "print(\"Extractive Summary:\")\n",
        "print(extractive_summary)"
      ],
      "metadata": {
        "colab": {
          "base_uri": "https://localhost:8080/"
        },
        "id": "MuFfnSTTIAE2",
        "outputId": "c4beeae9-2b26-4816-8efe-eeb235ba450d"
      },
      "execution_count": 48,
      "outputs": [
        {
          "output_type": "stream",
          "name": "stdout",
          "text": [
            "Extractive Summary:\n",
            "Yellow with darker pillows Cream or light pink I’d go with a plain pale yellow Move all the furniture out of the room so you can stare at the masterpiece all day Seriously though I dream of owning a home one day so I can paint fun murals on the walls. The mural is quite marine so maybe like a raw linen green or earthy colour style to make the bed feel like your own island in the water.\n"
          ]
        },
        {
          "output_type": "stream",
          "name": "stderr",
          "text": [
            "/usr/local/lib/python3.10/dist-packages/sklearn/cluster/_kmeans.py:870: FutureWarning: The default value of `n_init` will change from 10 to 'auto' in 1.4. Set the value of `n_init` explicitly to suppress the warning\n",
            "  warnings.warn(\n"
          ]
        }
      ]
    },
    {
      "cell_type": "code",
      "source": [
        "# Approach 2 (no changes , it just removed the warning part)\n",
        "\n",
        "import warnings\n",
        "from nltk.tokenize import sent_tokenize\n",
        "from summarizer import Summarizer\n",
        "\n",
        "# Relevant comments\n",
        "relevant_comments = [\n",
        "    \"Yellow with darker pillows Cream or light pink I’d go with a plain pale yellow Move all the furniture out of the room so you can stare at the masterpiece all day Seriously though I dream of owning a home one day so I can paint fun murals on the walls.\",\n",
        "    \"I’m a big proponent of all white sheets (bed sheet, duvet cover, pillow cases), so you can bleach them while washing, and accent throw pillows and blanket(s) on top.\",\n",
        "    \"Seconding this, you can also get white sheets and comforter with just a thin blue piping around, it’ll really tie the room together So far I’m liking the blue.\",\n",
        "    \"The mural is quite marine so maybe like a raw linen green or earthy colour style to make the bed feel like your own island in the water.\",\n",
        "    \"Add an accent pillow if you like but keep most of the bedding a background color so focus remains on the mural.\"\n",
        "]\n",
        "\n",
        "# Combine relevant comments into a single text\n",
        "relevant_text = ' '.join(relevant_comments)\n",
        "\n",
        "# Suppress sklearn warning\n",
        "warnings.filterwarnings(\"ignore\", category=FutureWarning)\n",
        "\n",
        "# Use BERT extractive summarizer to generate an extractive summary\n",
        "summarizer = Summarizer()\n",
        "extractive_summary = summarizer(relevant_text, ratio=0.2)  # You can adjust the ratio as needed\n",
        "\n",
        "# Print the extractive summary\n",
        "print(\"Extractive Summary:\")\n",
        "print(extractive_summary)"
      ],
      "metadata": {
        "colab": {
          "base_uri": "https://localhost:8080/"
        },
        "id": "5Iw32N8zIAzE",
        "outputId": "2412ac73-5828-45e9-e923-69eccaf80772"
      },
      "execution_count": 49,
      "outputs": [
        {
          "output_type": "stream",
          "name": "stdout",
          "text": [
            "Extractive Summary:\n",
            "Yellow with darker pillows Cream or light pink I’d go with a plain pale yellow Move all the furniture out of the room so you can stare at the masterpiece all day Seriously though I dream of owning a home one day so I can paint fun murals on the walls. The mural is quite marine so maybe like a raw linen green or earthy colour style to make the bed feel like your own island in the water.\n"
          ]
        }
      ]
    },
    {
      "cell_type": "code",
      "source": [],
      "metadata": {
        "id": "LH6a_wqLJmdo"
      },
      "execution_count": null,
      "outputs": []
    }
  ]
}